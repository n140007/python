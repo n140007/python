{
 "cells": [
  {
   "cell_type": "code",
   "execution_count": null,
   "metadata": {},
   "outputs": [],
   "source": [
    "# HackerEarth problems\n",
    "\n",
    "# Count Divisors\n",
    "def countDivisors(i, j, k):\n",
    "    count = 0\n",
    "    for n in range(i, j+1):\n",
    "        if n%k==0:\n",
    "            count = count + 1\n",
    "    print(count)\n",
    "    return\n",
    "s = input()\n",
    "s = s.split()\n",
    "i = int(s[0])\n",
    "j = int(s[1])\n",
    "k = int(s[2])\n",
    "countDivisors(i, j, k)"
   ]
  },
  {
   "cell_type": "code",
   "execution_count": null,
   "metadata": {},
   "outputs": [],
   "source": [
    "# Factrotial Of a Number\n",
    "\n",
    "def factorial(N):\n",
    "    sum = 1\n",
    "    for i in range(1, N+1):\n",
    "       sum = sum * i\n",
    "    print(sum)\n",
    "N = int(input())    \n",
    "factorial(N)\n"
   ]
  },
  {
   "cell_type": "code",
   "execution_count": null,
   "metadata": {},
   "outputs": [],
   "source": [
    "# Two Strings\n",
    "\n",
    "n=int(input())\n",
    "for i in range(n):\n",
    "    z=[list(i) for i in input().split()]\n",
    "    if sorted(z[0]) == sorted(z[1]):\n",
    "        print(\"YES\")\n",
    "    else:\n",
    "        print(\"NO\")"
   ]
  },
  {
   "cell_type": "code",
   "execution_count": null,
   "metadata": {},
   "outputs": [],
   "source": [
    "# Toggle String\n",
    "\n",
    "s = \"abcdE\"\n",
    "s=s.swapcase()\n",
    "s"
   ]
  },
  {
   "cell_type": "code",
   "execution_count": 3,
   "metadata": {},
   "outputs": [
    {
     "data": {
      "text/plain": [
       "'abc'"
      ]
     },
     "execution_count": 3,
     "metadata": {},
     "output_type": "execute_result"
    }
   ],
   "source": [
    "s = \"abc\"\n",
    "s.islower()\n",
    "s.isupper()\n",
    "\n",
    "s.lower() # Convert a characer to lower case\n",
    "s.upper() # Convert a character into Upper case\n",
    "s.split()\n",
    "list(s)\n",
    "s.split()\n",
    "\n",
    "s=list(s)\n",
    "\"\".join(s)\n",
    "\n",
    " "
   ]
  },
  {
   "cell_type": "code",
   "execution_count": 4,
   "metadata": {},
   "outputs": [
    {
     "data": {
      "text/plain": [
       "['A', 'B', 'C', 'e']"
      ]
     },
     "execution_count": 4,
     "metadata": {},
     "output_type": "execute_result"
    }
   ],
   "source": [
    "# Function to Toggle Sting characters\n",
    "\n",
    "def toggleString(s):\n",
    "    # Convert the string into a list\n",
    "    s = list(s)\n",
    "    t = []\n",
    "    for c in s:\n",
    "        if c.islower():\n",
    "            t.append(c.upper())\n",
    "        else:\n",
    "            t.append(c.lower())\n",
    "    return t\n",
    "toggleString(\"abcE\")"
   ]
  },
  {
   "cell_type": "markdown",
   "metadata": {},
   "source": [
    "#### Duration Problem\n",
    "\n",
    "**Input** : Start Time, End Time (HH, MM) <br>\n",
    "        HH - {00, 01, 02, 03, --- , 23} <br>\n",
    "        MM - {00, 01, 02, 03, ---, 59} <br>\n",
    "        HH MM - {00 00, 23 59} <br>\n",
    "        \n",
    "**Output** : Time Difference in  HH MM"
   ]
  },
  {
   "cell_type": "code",
   "execution_count": 6,
   "metadata": {},
   "outputs": [
    {
     "name": "stdout",
     "output_type": "stream",
     "text": [
      "5 41\n"
     ]
    }
   ],
   "source": [
    "# Calculate the time difference as total number of minutes\n",
    "# Convert the total number of minutes\n",
    "  \n",
    "s = \"2 42 8 23\"    \n",
    "def minuteDifference(s):\n",
    "    s = s.split()\n",
    "    sh = int(s[0])\n",
    "    sm = int(s[1])\n",
    "    eh = int(s[2])\n",
    "    em = int(s[3])\n",
    "    startminutes = sh * 60 + sm\n",
    "    endminutes = eh * 60 + em\n",
    "    return endminutes - startminutes\n",
    "def OutputTimeFormat(minutes):\n",
    "    # Convert minutes into HH MM\n",
    "    hh = minutes // 60\n",
    "    mm = minutes % 60\n",
    "    print(hh, mm)\n",
    "    return\n",
    "minutes = minuteDifference(s)\n",
    "OutputTimeFormat(minutes)\n",
    "    \n",
    "    "
   ]
  },
  {
   "cell_type": "markdown",
   "metadata": {},
   "source": [
    "### Problem : Play waith numbers\n",
    "\n",
    "line 1 : array size(n), no of queries(q)\n",
    "line 2 : n arrray elements\n",
    "next q lines : query - sub array of the original array\n",
    "\n"
   ]
  }
 ],
 "metadata": {
  "kernelspec": {
   "display_name": "Python 3",
   "language": "python",
   "name": "python3"
  },
  "language_info": {
   "codemirror_mode": {
    "name": "ipython",
    "version": 3
   },
   "file_extension": ".py",
   "mimetype": "text/x-python",
   "name": "python",
   "nbconvert_exporter": "python",
   "pygments_lexer": "ipython3",
   "version": "3.7.3"
  }
 },
 "nbformat": 4,
 "nbformat_minor": 2
}
