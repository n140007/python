{
 "cells": [
  {
   "cell_type": "code",
   "execution_count": null,
   "metadata": {},
   "outputs": [],
   "source": [
    "# HackerEarth problems\n",
    "\n",
    "# Count Divisors\n",
    "def countDivisors(i, j, k):\n",
    "    count = 0\n",
    "    for n in range(i, j+1):\n",
    "        if n%k==0:\n",
    "            count = count + 1\n",
    "    print(count)\n",
    "    return\n",
    "s = input()\n",
    "s = s.split()\n",
    "i = int(s[0])\n",
    "j = int(s[1])\n",
    "k = int(s[2])\n",
    "countDivisors(i, j, k)"
   ]
  },
  {
   "cell_type": "code",
   "execution_count": null,
   "metadata": {},
   "outputs": [],
   "source": [
    "# The range of N prime numbers\n",
    "\n",
    "def isPrime(N):\n",
    "    for i in range(2, N):\n",
    "        count =0\n",
    "        for j in range(1, i+1):\n",
    "            if(i%j==0):\n",
    "                count=count+1\n",
    "        if(count==2):\n",
    "            print(i, end = \" \")\n",
    "    return\n",
    "N = int(input())\n",
    "isPrime(N)"
   ]
  },
  {
   "cell_type": "code",
   "execution_count": null,
   "metadata": {},
   "outputs": [],
   "source": [
    "# Palindromic String\n",
    "\n",
    "string =input()\n",
    "if(string==string[::-1]):\n",
    "    print(\"YES\")\n",
    "else:\n",
    "    print(\"NO\")"
   ]
  },
  {
   "cell_type": "code",
   "execution_count": null,
   "metadata": {},
   "outputs": [],
   "source": [
    "# Factrotial Of a Number\n",
    "\n",
    "def factorial(N):\n",
    "    sum = 1\n",
    "    for i in range(1, N+1):\n",
    "       sum = sum * i\n",
    "    print(sum)\n",
    "N = int(input())    \n",
    "factorial(N)\n"
   ]
  },
  {
   "cell_type": "code",
   "execution_count": null,
   "metadata": {},
   "outputs": [],
   "source": [
    "# Two Strings\n",
    "\n",
    "n=int(input())\n",
    "for i in range(n):\n",
    "    z=[list(i) for i in input().split()]\n",
    "    if sorted(z[0]) == sorted(z[1]):\n",
    "        print(\"YES\")\n",
    "    else:\n",
    "        print(\"NO\")"
   ]
  },
  {
   "cell_type": "code",
   "execution_count": null,
   "metadata": {},
   "outputs": [],
   "source": [
    "# Toggle String\n",
    "\n",
    "s = \"abcdE\"\n",
    "s=s.swapcase()\n",
    "s"
   ]
  }
 ],
 "metadata": {
  "kernelspec": {
   "display_name": "Python 3",
   "language": "python",
   "name": "python3"
  },
  "language_info": {
   "codemirror_mode": {
    "name": "ipython",
    "version": 3
   },
   "file_extension": ".py",
   "mimetype": "text/x-python",
   "name": "python",
   "nbconvert_exporter": "python",
   "pygments_lexer": "ipython3",
   "version": "3.7.3"
  }
 },
 "nbformat": 4,
 "nbformat_minor": 2
}
