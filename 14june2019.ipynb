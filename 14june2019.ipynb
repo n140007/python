{
 "cells": [
  {
   "cell_type": "markdown",
   "metadata": {},
   "source": [
    "### Problem Solving and Programming in Python\n",
    "\n",
    "#### Date - 14 June 2019\n",
    "\n",
    "#### Day Objective\n",
    "- Python Data Structures\n",
    "- Lists\n",
    "- Tuples\n",
    "- Dictionaries\n",
    "- Basic Problem Set on Data Structures\n",
    "- Advanced Problem Set\n",
    "- Packages and Modules in Python"
   ]
  },
  {
   "cell_type": "markdown",
   "metadata": {},
   "source": [
    "## Python Data Structures\n",
    "#### Lists\n"
   ]
  },
  {
   "cell_type": "code",
   "execution_count": 1,
   "metadata": {},
   "outputs": [
    {
     "name": "stdout",
     "output_type": "stream",
     "text": [
      "secondlargestnumberis: 456\n"
     ]
    }
   ],
   "source": [
    "list = [2, 5, 8, 4]\n",
    "list # Access the entire list\n",
    "\n",
    "list [2] # Access an element with index in a list\n",
    "\n",
    "list[2:] # Access all elemnts from second element to last element\n",
    "\n",
    "list[::-1] # Access to reverse the list but it's not change is the original list it is the copy of the original list\n",
    "\n",
    "list = list[::-1] # reversing list elements and reassigning to the original list\n",
    "list\n",
    "\n",
    "list = list[::-1] # go back to the original list\n",
    "list\n",
    "\n",
    "list[::2]\n",
    "\n",
    "list[1::2]\n",
    "\n",
    "# list can be accessed, Manipulated in two different ways \n",
    "# Direct Referencing - [ index ]\n",
    "# Indirect Referencing -  through functions\n",
    "\n",
    "list.append(345)    # Adding an element to end of the list # here append is a function it means add\n",
    "\n",
    "list\n",
    "\n",
    "list.insert(0,4)  #\n",
    "\n",
    "list\n",
    "\n",
    "list.sort() # Sort elements in ascending order\n",
    "list\n",
    "\n",
    "list.pop(1) # to remove the paricular index we want to remove in a list\n",
    "list\n",
    "\n",
    "list.pop() # remove the last element in a list\n",
    "list\n",
    "\n",
    "list.remove(5) # to temove the particular element in a lsit \n",
    "list\n",
    "\n",
    "li2 = [234, 456, 789]\n",
    "list.extend(li2) # Merge list 2 into list 1\n",
    "list\n",
    "\n",
    "sum(list) # Sum of all elements in a list\n",
    "max(list) # Maximum element in a list\n",
    "min(list) # Number of elements in a list\n",
    "len(list) # Minimum element in a list\n",
    "\n",
    "\n",
    "sum(list)/len(list) # Average of list elemets\n",
    "\n",
    "sum(list[::2])/len(list[::2])  # Average of all alternate elements\n",
    "\n",
    "sum(list[1::2])/len(list[1::2])  # Avergae of all odd elements\n",
    "\n",
    "# Function to identify the second largest element in a list\n",
    "   # Sort the data and select the second largest element\n",
    "   # Sort the data in reverse order, and select the second element\n",
    "   # Remove the max element and then get the max of the new list\n",
    "list = [ 2, 3, 4, 8, 234, 456, 789]\n",
    "list.sort()\n",
    "print(\"secondlargestnumberis:\" , list[-2])\n",
    "    "
   ]
  },
  {
   "cell_type": "code",
   "execution_count": 73,
   "metadata": {},
   "outputs": [
    {
     "data": {
      "text/plain": [
       "456"
      ]
     },
     "execution_count": 73,
     "metadata": {},
     "output_type": "execute_result"
    }
   ],
   "source": [
    "def SecondLargest(list):\n",
    "        list.sort()\n",
    "        return list[-2]\n",
    "SecondLargest(list)"
   ]
  },
  {
   "cell_type": "code",
   "execution_count": 79,
   "metadata": {},
   "outputs": [
    {
     "data": {
      "text/plain": [
       "234"
      ]
     },
     "execution_count": 79,
     "metadata": {},
     "output_type": "execute_result"
    }
   ],
   "source": [
    "# Function that returns the nth largest\n",
    "def genericLargest(list,n):\n",
    "    list.sort()\n",
    "    return list[-n]\n",
    "secondLargest(list)\n",
    "genericLargest(list, 3)"
   ]
  },
  {
   "cell_type": "code",
   "execution_count": 83,
   "metadata": {},
   "outputs": [
    {
     "data": {
      "text/plain": [
       "2"
      ]
     },
     "execution_count": 83,
     "metadata": {},
     "output_type": "execute_result"
    }
   ],
   "source": [
    "# Function to search for data in a list\n",
    "# Search for the key in the list and return the index       Retun -1 if key not found\n",
    "def linearSearch(list, key):\n",
    "    for index in range(0, len(list)):\n",
    "        if list[index]==key:\n",
    "            return index\n",
    "    return -1\n",
    "linearSearch(list, 4)\n",
    "    \n",
    "    \n",
    "    "
   ]
  },
  {
   "cell_type": "code",
   "execution_count": 86,
   "metadata": {},
   "outputs": [
    {
     "data": {
      "text/plain": [
       "-1"
      ]
     },
     "execution_count": 86,
     "metadata": {},
     "output_type": "execute_result"
    }
   ],
   "source": [
    "def linearSearch2(list, key):\n",
    "    for element in list:\n",
    "        if element==key:\n",
    "            return list.index(element)\n",
    "    return -1\n",
    "linearSearch(list, 6 )"
   ]
  },
  {
   "cell_type": "code",
   "execution_count": 90,
   "metadata": {},
   "outputs": [
    {
     "data": {
      "text/plain": [
       "-1"
      ]
     },
     "execution_count": 90,
     "metadata": {},
     "output_type": "execute_result"
    }
   ],
   "source": [
    "# Single line solution for the above problem \n",
    "def linearSearch3(list, key):\n",
    "    return key\n",
    "linearSearch(list, 10)"
   ]
  },
  {
   "cell_type": "code",
   "execution_count": 96,
   "metadata": {},
   "outputs": [
    {
     "data": {
      "text/plain": [
       "-1"
      ]
     },
     "execution_count": 96,
     "metadata": {},
     "output_type": "execute_result"
    }
   ],
   "source": [
    "def linearSearch3(li, key):\n",
    "    if key in list:\n",
    "        return list.index(key)\n",
    "    return -1\n",
    "linearSearch3(list, 700)"
   ]
  },
  {
   "cell_type": "code",
   "execution_count": 109,
   "metadata": {},
   "outputs": [
    {
     "data": {
      "text/plain": [
       "0"
      ]
     },
     "execution_count": 109,
     "metadata": {},
     "output_type": "execute_result"
    }
   ],
   "source": [
    "# Function to count the occurances of a character in a list\n",
    "# 'Python Programming', m->2\n",
    "def countCharacter(s, c):\n",
    "    count = 0\n",
    "    for ch in s:\n",
    "        if ch == c:\n",
    "            count = count + 1\n",
    "    return count\n",
    "def countCharacter2(s, c):\n",
    "    return s.count(c)\n",
    "countCharacter2(\"Python Programming\", 'py')\n",
    "    "
   ]
  },
  {
   "cell_type": "code",
   "execution_count": null,
   "metadata": {},
   "outputs": [],
   "source": [
    "# Function to find the number of occurances of a substring in \n",
    "# \" abcabcddcba\", \"ab\" -> 2"
   ]
  },
  {
   "cell_type": "code",
   "execution_count": 5,
   "metadata": {},
   "outputs": [
    {
     "data": {
      "text/plain": [
       "[1, 2, 3, 4, 5, 6]"
      ]
     },
     "execution_count": 5,
     "metadata": {},
     "output_type": "execute_result"
    }
   ],
   "source": [
    "s = ' 1 2 3 4 5 6'\n",
    "li= s.split()\n",
    "numberlist = []\n",
    "for i in li:\n",
    "    numberlist.append(int(i))\n",
    "numberlist"
   ]
  },
  {
   "cell_type": "code",
   "execution_count": 32,
   "metadata": {},
   "outputs": [
    {
     "name": "stdout",
     "output_type": "stream",
     "text": [
      "enter a stringJKIO\n",
      "False\n"
     ]
    }
   ],
   "source": [
    "string =input(\"enter a string\")\n",
    "if(string==string[::-1]):\n",
    "    print(True)\n",
    "else:\n",
    "    print(False)"
   ]
  },
  {
   "cell_type": "code",
   "execution_count": 35,
   "metadata": {},
   "outputs": [
    {
     "data": {
      "text/plain": [
       "'ABCDe'"
      ]
     },
     "execution_count": 35,
     "metadata": {},
     "output_type": "execute_result"
    }
   ],
   "source": [
    "s = \"abcdE\"\n",
    "s=s.swapcase()\n",
    "s"
   ]
  },
  {
   "cell_type": "code",
   "execution_count": 36,
   "metadata": {},
   "outputs": [
    {
     "data": {
      "text/plain": [
       "5"
      ]
     },
     "execution_count": 36,
     "metadata": {},
     "output_type": "execute_result"
    }
   ],
   "source": [
    "9//2+1\n"
   ]
  },
  {
   "cell_type": "code",
   "execution_count": 37,
   "metadata": {},
   "outputs": [
    {
     "data": {
      "text/plain": [
       "'manj'"
      ]
     },
     "execution_count": 37,
     "metadata": {},
     "output_type": "execute_result"
    }
   ],
   "source": [
    "s = \"manju\"\n",
    "s[0:4]"
   ]
  },
  {
   "cell_type": "code",
   "execution_count": 40,
   "metadata": {},
   "outputs": [
    {
     "name": "stdout",
     "output_type": "stream",
     "text": [
      "s\n"
     ]
    }
   ],
   "source": [
    "s=['a', 'b', 'c']\n",
    "s[0:2]"
   ]
  },
  {
   "cell_type": "code",
   "execution_count": null,
   "metadata": {},
   "outputs": [],
   "source": [
    "# Series of N prime numbers\n",
    "\n",
    "def isPrime(N):\n",
    "    for i in range(2, N):\n",
    "        count =0\n",
    "        for j in range(1, i+1):\n",
    "            if(i%j==0):\n",
    "                count=count+1\n",
    "        if(count==2):\n",
    "            print(i, end = \" \")\n",
    "    return\n",
    "N = int(input())\n",
    "isPrime(N)\n"
   ]
  },
  {
   "cell_type": "code",
   "execution_count": 6,
   "metadata": {},
   "outputs": [
    {
     "name": "stdout",
     "output_type": "stream",
     "text": [
      "MKJ\n",
      "MKJ\n"
     ]
    }
   ],
   "source": [
    "# togglr string\n",
    "s = input()\n",
    "def Toggle(s):\n",
    "     s = s.swapcase()\n",
    "print(s)\n",
    "Toggle(s)"
   ]
  },
  {
   "cell_type": "code",
   "execution_count": 14,
   "metadata": {},
   "outputs": [
    {
     "data": {
      "text/plain": [
       "65"
      ]
     },
     "execution_count": 14,
     "metadata": {},
     "output_type": "execute_result"
    }
   ],
   "source": [
    "ord('A')"
   ]
  },
  {
   "cell_type": "code",
   "execution_count": null,
   "metadata": {},
   "outputs": [
    {
     "name": "stdout",
     "output_type": "stream",
     "text": [
      "3\n",
      "python python\n",
      "YES\n"
     ]
    }
   ],
   "source": [
    "# Two Strings\n",
    "\n",
    "N=int(input())\n",
    "for i in range(N):\n",
    "    s1=[list(i) for i in input().split()]\n",
    "    if sorted(s1[0]) == sorted(s1[1]):\n",
    "        print(\"YES\")\n",
    "    else:\n",
    "        print(\"NO\")"
   ]
  },
  {
   "cell_type": "code",
   "execution_count": null,
   "metadata": {},
   "outputs": [],
   "source": [
    "n = int(input())\n",
    "def sumSquaresNaturalNumbers(n):\n",
    "    sum=0\n",
    "    for i in range(1, n+1):\n",
    "        sum=sum+i**2\n",
    "    return sum\n",
    "sumSquaresNaturalNumbers(n)"
   ]
  },
  {
   "cell_type": "markdown",
   "metadata": {},
   "source": [
    "### Problem - ClosestZero"
   ]
  },
  {
   "cell_type": "markdown",
   "metadata": {},
   "source": [
    "## **Explanation**"
   ]
  },
  {
   "cell_type": "markdown",
   "metadata": {},
   "source": [
    "- li = [3, 2, -1, -2, -3]\n",
    "- Sort the data\n",
    "- li = [-3, -2, -1, 2, 3]\n",
    " - pl = [1, 2, 2, 3, 3]  (Positive Sorted List)\n",
    " - pl[0] -> Check if this number is -ve or +ve in the \n",
    " - if pl[0] in li:\n",
    "      - return pl[0]\n",
    "  - else\n",
    "       - return -pl[0]"
   ]
  },
  {
   "cell_type": "code",
   "execution_count": null,
   "metadata": {},
   "outputs": [],
   "source": [
    "# sepearate all numbers less than zero and \n",
    "# ALL numbers greater = zero, get \n",
    "# -1 2 5 -10 -20\n",
    "# -1 -10 -20 -> -1\n",
    "# 2 5 -> 2\n",
    "# -1 2 -> count from 0 to -1, 2\n",
    "\n",
    "\n",
    "li = [-1, -2, 2, 3, 1]\n",
    "li.sort()\n",
    "pl = []\n",
    "for i in li:\n",
    "    pl.append(abs(i))\n",
    "pl.sort()\n",
    "if pl[0] in li:\n",
    "    print(pl[0])\n",
    "else:\n",
    "    print(-pl[0])\n"
   ]
  },
  {
   "cell_type": "code",
   "execution_count": null,
   "metadata": {},
   "outputs": [],
   "source": [
    "# largest\n",
    "\n",
    "\n",
    "li = [-1, -2, 2, 3]\n",
    "li.sort\n",
    "pl =[]\n",
    "for i in li:\n",
    "    pl.append(abs(i))\n",
    "pl.sort()\n",
    "if pl[-1] in li:\n",
    "    print(pl[-1])\n",
    "else:\n",
    "    print(-pl[-1])\n"
   ]
  },
  {
   "cell_type": "code",
   "execution_count": null,
   "metadata": {},
   "outputs": [],
   "source": [
    "# smallest\n",
    "\n",
    "li = [-1, -2, 2, 3]\n",
    "li.sort\n",
    "pl =[]\n",
    "for i in li:\n",
    "    pl.append(abs(i))\n",
    "pl.sort()\n",
    "if -pl[1] in li:\n",
    "    print(-pl[1])\n",
    "else:\n",
    "    print(pl[1]"
   ]
  },
  {
   "cell_type": "markdown",
   "metadata": {},
   "source": [
    "### Problem-3\n",
    "you are given three numbers, a, b, and c. Write a program to find the largest number which is less than or equal to c and leaves remainder b when divided by a.\n",
    "\n",
    "3 2 9\n",
    "9 % 3 == 0\n",
    "8 % 3 == 2\n",
    "\n",
    "\n",
    "\n",
    "1 2 4 \n",
    " 4 % 1 == 0\n",
    " 3 % 1 == 0\n",
    " 2 % 1 == 0\n",
    " 1 % 1 == 0\n",
    " 0 % 1 == 0\n",
    " -1 % 1 == 2"
   ]
  },
  {
   "cell_type": "code",
   "execution_count": null,
   "metadata": {},
   "outputs": [],
   "source": [
    "def cal(a, b, c ):\n",
    "    for i in range(c, a-1, -1):\n",
    "        if i % a == b:\n",
    "            return i\n",
    "    return -1\n",
    "cal(3, 2, 6)"
   ]
  }
 ],
 "metadata": {
  "kernelspec": {
   "display_name": "Python 3",
   "language": "python",
   "name": "python3"
  },
  "language_info": {
   "codemirror_mode": {
    "name": "ipython",
    "version": 3
   },
   "file_extension": ".py",
   "mimetype": "text/x-python",
   "name": "python",
   "nbconvert_exporter": "python",
   "pygments_lexer": "ipython3",
   "version": "3.7.3"
  }
 },
 "nbformat": 4,
 "nbformat_minor": 2
}
